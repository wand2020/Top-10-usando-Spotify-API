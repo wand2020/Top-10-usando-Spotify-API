{
 "cells": [
  {
   "cell_type": "markdown",
   "metadata": {},
   "source": [
    "# Machine Learning"
   ]
  },
  {
   "cell_type": "markdown",
   "metadata": {},
   "source": [
    "Com os dados coletados (Passo1_Spotify) e analises obtidas (Passo2_Spotify) nesta etapa faremos uso \n",
    "do algoritmo de Machine Learning para identificar se o cantor é do gênero feminino ou masculino, de acordo com os dados dentre os mais ouvidos no Top 10 do Spotify."
   ]
  },
  {
   "cell_type": "code",
   "execution_count": 3,
   "metadata": {},
   "outputs": [],
   "source": [
    "import pandas as pd\n",
    "import numpy as np\n",
    "import warnings\n",
    "warnings.filterwarnings(\"ignore\")"
   ]
  },
  {
   "cell_type": "code",
   "execution_count": 5,
   "metadata": {},
   "outputs": [],
   "source": [
    "#Carregando os dados\n",
    "dataset=pd.read_csv(\"TOP10.csv\")"
   ]
  },
  {
   "cell_type": "code",
   "execution_count": 8,
   "metadata": {},
   "outputs": [
    {
     "data": {
      "text/html": [
       "<div>\n",
       "<style scoped>\n",
       "    .dataframe tbody tr th:only-of-type {\n",
       "        vertical-align: middle;\n",
       "    }\n",
       "\n",
       "    .dataframe tbody tr th {\n",
       "        vertical-align: top;\n",
       "    }\n",
       "\n",
       "    .dataframe thead th {\n",
       "        text-align: right;\n",
       "    }\n",
       "</style>\n",
       "<table border=\"1\" class=\"dataframe\">\n",
       "  <thead>\n",
       "    <tr style=\"text-align: right;\">\n",
       "      <th></th>\n",
       "      <th>track_name</th>\n",
       "      <th>track_id</th>\n",
       "      <th>acousticness</th>\n",
       "      <th>danceability</th>\n",
       "      <th>energy</th>\n",
       "      <th>key</th>\n",
       "      <th>loudness</th>\n",
       "      <th>mode</th>\n",
       "      <th>speechiness</th>\n",
       "      <th>instrumentalness</th>\n",
       "      <th>liveness</th>\n",
       "      <th>valence</th>\n",
       "      <th>tempo</th>\n",
       "      <th>duration_ms</th>\n",
       "      <th>time_signature</th>\n",
       "      <th>Artist</th>\n",
       "      <th>Target</th>\n",
       "    </tr>\n",
       "  </thead>\n",
       "  <tbody>\n",
       "    <tr>\n",
       "      <th>0</th>\n",
       "      <td>UN DIA (ONE DAY) (Feat. Tainy)</td>\n",
       "      <td>0EhpEsp4L0oRGM0vmeaN5e</td>\n",
       "      <td>0.00536</td>\n",
       "      <td>0.571</td>\n",
       "      <td>0.693</td>\n",
       "      <td>6</td>\n",
       "      <td>-8.234</td>\n",
       "      <td>0</td>\n",
       "      <td>0.0545</td>\n",
       "      <td>0.000000</td>\n",
       "      <td>0.1730</td>\n",
       "      <td>0.393</td>\n",
       "      <td>168.169</td>\n",
       "      <td>232253</td>\n",
       "      <td>4</td>\n",
       "      <td>Dua Lipa</td>\n",
       "      <td>F</td>\n",
       "    </tr>\n",
       "    <tr>\n",
       "      <th>1</th>\n",
       "      <td>Don't Start Now</td>\n",
       "      <td>3PfIrDoz19wz7qK7tYeu62</td>\n",
       "      <td>0.01230</td>\n",
       "      <td>0.793</td>\n",
       "      <td>0.793</td>\n",
       "      <td>11</td>\n",
       "      <td>-4.521</td>\n",
       "      <td>0</td>\n",
       "      <td>0.0830</td>\n",
       "      <td>0.000000</td>\n",
       "      <td>0.0951</td>\n",
       "      <td>0.679</td>\n",
       "      <td>123.950</td>\n",
       "      <td>183290</td>\n",
       "      <td>4</td>\n",
       "      <td>Dua Lipa</td>\n",
       "      <td>F</td>\n",
       "    </tr>\n",
       "    <tr>\n",
       "      <th>2</th>\n",
       "      <td>Break My Heart</td>\n",
       "      <td>017PF4Q3l4DBUiWoXk4OWT</td>\n",
       "      <td>0.16700</td>\n",
       "      <td>0.730</td>\n",
       "      <td>0.729</td>\n",
       "      <td>4</td>\n",
       "      <td>-3.434</td>\n",
       "      <td>0</td>\n",
       "      <td>0.0883</td>\n",
       "      <td>0.000001</td>\n",
       "      <td>0.3490</td>\n",
       "      <td>0.467</td>\n",
       "      <td>113.013</td>\n",
       "      <td>221820</td>\n",
       "      <td>4</td>\n",
       "      <td>Dua Lipa</td>\n",
       "      <td>F</td>\n",
       "    </tr>\n",
       "    <tr>\n",
       "      <th>3</th>\n",
       "      <td>One Kiss (with Dua Lipa)</td>\n",
       "      <td>7ef4DlsgrMEH11cDZd32M6</td>\n",
       "      <td>0.03700</td>\n",
       "      <td>0.791</td>\n",
       "      <td>0.862</td>\n",
       "      <td>9</td>\n",
       "      <td>-3.240</td>\n",
       "      <td>0</td>\n",
       "      <td>0.1100</td>\n",
       "      <td>0.000022</td>\n",
       "      <td>0.0814</td>\n",
       "      <td>0.592</td>\n",
       "      <td>123.994</td>\n",
       "      <td>214847</td>\n",
       "      <td>4</td>\n",
       "      <td>Dua Lipa</td>\n",
       "      <td>F</td>\n",
       "    </tr>\n",
       "    <tr>\n",
       "      <th>4</th>\n",
       "      <td>Physical</td>\n",
       "      <td>3AzjcOeAmA57TIOr9zF1ZW</td>\n",
       "      <td>0.01370</td>\n",
       "      <td>0.647</td>\n",
       "      <td>0.844</td>\n",
       "      <td>0</td>\n",
       "      <td>-3.756</td>\n",
       "      <td>1</td>\n",
       "      <td>0.0457</td>\n",
       "      <td>0.000658</td>\n",
       "      <td>0.1020</td>\n",
       "      <td>0.746</td>\n",
       "      <td>146.967</td>\n",
       "      <td>193829</td>\n",
       "      <td>4</td>\n",
       "      <td>Dua Lipa</td>\n",
       "      <td>F</td>\n",
       "    </tr>\n",
       "  </tbody>\n",
       "</table>\n",
       "</div>"
      ],
      "text/plain": [
       "                       track_name                track_id  acousticness  \\\n",
       "0  UN DIA (ONE DAY) (Feat. Tainy)  0EhpEsp4L0oRGM0vmeaN5e       0.00536   \n",
       "1                 Don't Start Now  3PfIrDoz19wz7qK7tYeu62       0.01230   \n",
       "2                  Break My Heart  017PF4Q3l4DBUiWoXk4OWT       0.16700   \n",
       "3        One Kiss (with Dua Lipa)  7ef4DlsgrMEH11cDZd32M6       0.03700   \n",
       "4                        Physical  3AzjcOeAmA57TIOr9zF1ZW       0.01370   \n",
       "\n",
       "   danceability  energy  key  loudness  mode  speechiness  instrumentalness  \\\n",
       "0         0.571   0.693    6    -8.234     0       0.0545          0.000000   \n",
       "1         0.793   0.793   11    -4.521     0       0.0830          0.000000   \n",
       "2         0.730   0.729    4    -3.434     0       0.0883          0.000001   \n",
       "3         0.791   0.862    9    -3.240     0       0.1100          0.000022   \n",
       "4         0.647   0.844    0    -3.756     1       0.0457          0.000658   \n",
       "\n",
       "   liveness  valence    tempo  duration_ms  time_signature    Artist Target  \n",
       "0    0.1730    0.393  168.169       232253               4  Dua Lipa      F  \n",
       "1    0.0951    0.679  123.950       183290               4  Dua Lipa      F  \n",
       "2    0.3490    0.467  113.013       221820               4  Dua Lipa      F  \n",
       "3    0.0814    0.592  123.994       214847               4  Dua Lipa      F  \n",
       "4    0.1020    0.746  146.967       193829               4  Dua Lipa      F  "
      ]
     },
     "execution_count": 8,
     "metadata": {},
     "output_type": "execute_result"
    }
   ],
   "source": [
    "#A decrição do que significa cada feature se encontra no Passo1_Spotify.\n",
    "dataset.head()"
   ]
  },
  {
   "cell_type": "markdown",
   "metadata": {},
   "source": [
    "**Etapa de preprocessamento dos dados**"
   ]
  },
  {
   "cell_type": "markdown",
   "metadata": {},
   "source": [
    "Será incluido uma coluna do tipo inteiro com os números representado o ranking dos cantores (M) e das cantoras (F) mais ouvidas no Spotify com base em pesquisa feita em 05 de agosto de 2020, conforme Passo1_SPotify.\n",
    "\n",
    "A coluna Target será transformada para um tipo inteira com F=0 e M=1.\n",
    "\n",
    "E será excluída algumas colunas que não tem relevância para o cálculo do algoritmo: track_name, track_id, key, mode e time_signature."
   ]
  },
  {
   "cell_type": "code",
   "execution_count": 9,
   "metadata": {},
   "outputs": [],
   "source": [
    "dataset['Artist_int']=dataset['Artist']"
   ]
  },
  {
   "cell_type": "code",
   "execution_count": 10,
   "metadata": {},
   "outputs": [],
   "source": [
    "#Eu preferi escolher o código para os artistas, pelo seu criterio momentanio de top na lista do spotify\n",
    "from sklearn.preprocessing import LabelEncoder\n",
    "gender_values = {'Drake':1,'The Weeknd':2, 'Dua Lipa':3, 'Ariana Grande':4, 'J Balvin':5, 'Justin Bieber':6,\n",
    "                 'Ed Sheeran':7,'Marshmello':8, 'Lady Gaga':9,'Khalid':10, 'Halsey':11,'Travis Scoot':12,\n",
    "                 'Jason Derullo':13,'Juice WRLD':14,'Nicki Minaj':15,'Taylor Swift':17,'Billie Eilish':20,\n",
    "                 'Camila Cabello':25,'Beyonce':28,'Rihanna':29}\n",
    "target_values ={'F':0,'M':1}\n",
    "dataset.replace({'Artist_int': gender_values}, inplace=True)\n",
    "dataset.replace({'Target': target_values}, inplace=True)"
   ]
  },
  {
   "cell_type": "code",
   "execution_count": 12,
   "metadata": {},
   "outputs": [
    {
     "name": "stdout",
     "output_type": "stream",
     "text": [
      "<class 'pandas.core.frame.DataFrame'>\n",
      "RangeIndex: 200 entries, 0 to 199\n",
      "Data columns (total 18 columns):\n",
      " #   Column            Non-Null Count  Dtype  \n",
      "---  ------            --------------  -----  \n",
      " 0   track_name        200 non-null    object \n",
      " 1   track_id          200 non-null    object \n",
      " 2   acousticness      200 non-null    float64\n",
      " 3   danceability      200 non-null    float64\n",
      " 4   energy            200 non-null    float64\n",
      " 5   key               200 non-null    int64  \n",
      " 6   loudness          200 non-null    float64\n",
      " 7   mode              200 non-null    int64  \n",
      " 8   speechiness       200 non-null    float64\n",
      " 9   instrumentalness  200 non-null    float64\n",
      " 10  liveness          200 non-null    float64\n",
      " 11  valence           200 non-null    float64\n",
      " 12  tempo             200 non-null    float64\n",
      " 13  duration_ms       200 non-null    int64  \n",
      " 14  time_signature    200 non-null    int64  \n",
      " 15  Artist            200 non-null    object \n",
      " 16  Target            200 non-null    int64  \n",
      " 17  Artist_int        200 non-null    int64  \n",
      "dtypes: float64(9), int64(6), object(3)\n",
      "memory usage: 28.2+ KB\n"
     ]
    }
   ],
   "source": [
    "dataset.info()"
   ]
  },
  {
   "cell_type": "code",
   "execution_count": 13,
   "metadata": {},
   "outputs": [],
   "source": [
    "#Excluindo features irrelevantes\n",
    "df=dataset[['acousticness', 'danceability', 'energy','loudness', 'speechiness', 'instrumentalness',\n",
    "       'liveness', 'valence', 'tempo', 'duration_ms', 'Artist_int','Target']]"
   ]
  },
  {
   "cell_type": "code",
   "execution_count": 14,
   "metadata": {},
   "outputs": [
    {
     "data": {
      "text/html": [
       "<div>\n",
       "<style scoped>\n",
       "    .dataframe tbody tr th:only-of-type {\n",
       "        vertical-align: middle;\n",
       "    }\n",
       "\n",
       "    .dataframe tbody tr th {\n",
       "        vertical-align: top;\n",
       "    }\n",
       "\n",
       "    .dataframe thead th {\n",
       "        text-align: right;\n",
       "    }\n",
       "</style>\n",
       "<table border=\"1\" class=\"dataframe\">\n",
       "  <thead>\n",
       "    <tr style=\"text-align: right;\">\n",
       "      <th></th>\n",
       "      <th>acousticness</th>\n",
       "      <th>danceability</th>\n",
       "      <th>energy</th>\n",
       "      <th>loudness</th>\n",
       "      <th>speechiness</th>\n",
       "      <th>instrumentalness</th>\n",
       "      <th>liveness</th>\n",
       "      <th>valence</th>\n",
       "      <th>tempo</th>\n",
       "      <th>duration_ms</th>\n",
       "      <th>Artist_int</th>\n",
       "      <th>Target</th>\n",
       "    </tr>\n",
       "  </thead>\n",
       "  <tbody>\n",
       "    <tr>\n",
       "      <th>195</th>\n",
       "      <td>0.3370</td>\n",
       "      <td>0.630</td>\n",
       "      <td>0.446</td>\n",
       "      <td>-8.900</td>\n",
       "      <td>0.0351</td>\n",
       "      <td>0.0</td>\n",
       "      <td>0.166</td>\n",
       "      <td>0.177</td>\n",
       "      <td>143.078</td>\n",
       "      <td>202193</td>\n",
       "      <td>14</td>\n",
       "      <td>1</td>\n",
       "    </tr>\n",
       "    <tr>\n",
       "      <th>196</th>\n",
       "      <td>0.0417</td>\n",
       "      <td>0.706</td>\n",
       "      <td>0.625</td>\n",
       "      <td>-7.426</td>\n",
       "      <td>0.0314</td>\n",
       "      <td>0.0</td>\n",
       "      <td>0.129</td>\n",
       "      <td>0.225</td>\n",
       "      <td>142.948</td>\n",
       "      <td>242181</td>\n",
       "      <td>14</td>\n",
       "      <td>1</td>\n",
       "    </tr>\n",
       "    <tr>\n",
       "      <th>197</th>\n",
       "      <td>0.3280</td>\n",
       "      <td>0.685</td>\n",
       "      <td>0.692</td>\n",
       "      <td>-5.122</td>\n",
       "      <td>0.0457</td>\n",
       "      <td>0.0</td>\n",
       "      <td>0.153</td>\n",
       "      <td>0.578</td>\n",
       "      <td>159.966</td>\n",
       "      <td>240051</td>\n",
       "      <td>14</td>\n",
       "      <td>1</td>\n",
       "    </tr>\n",
       "    <tr>\n",
       "      <th>198</th>\n",
       "      <td>0.1830</td>\n",
       "      <td>0.868</td>\n",
       "      <td>0.550</td>\n",
       "      <td>-6.417</td>\n",
       "      <td>0.2260</td>\n",
       "      <td>0.0</td>\n",
       "      <td>0.109</td>\n",
       "      <td>0.464</td>\n",
       "      <td>117.943</td>\n",
       "      <td>154767</td>\n",
       "      <td>14</td>\n",
       "      <td>1</td>\n",
       "    </tr>\n",
       "    <tr>\n",
       "      <th>199</th>\n",
       "      <td>0.1570</td>\n",
       "      <td>0.487</td>\n",
       "      <td>0.740</td>\n",
       "      <td>-4.973</td>\n",
       "      <td>0.0944</td>\n",
       "      <td>0.0</td>\n",
       "      <td>0.612</td>\n",
       "      <td>0.522</td>\n",
       "      <td>73.779</td>\n",
       "      <td>181688</td>\n",
       "      <td>14</td>\n",
       "      <td>1</td>\n",
       "    </tr>\n",
       "  </tbody>\n",
       "</table>\n",
       "</div>"
      ],
      "text/plain": [
       "     acousticness  danceability  energy  loudness  speechiness  \\\n",
       "195        0.3370         0.630   0.446    -8.900       0.0351   \n",
       "196        0.0417         0.706   0.625    -7.426       0.0314   \n",
       "197        0.3280         0.685   0.692    -5.122       0.0457   \n",
       "198        0.1830         0.868   0.550    -6.417       0.2260   \n",
       "199        0.1570         0.487   0.740    -4.973       0.0944   \n",
       "\n",
       "     instrumentalness  liveness  valence    tempo  duration_ms  Artist_int  \\\n",
       "195               0.0     0.166    0.177  143.078       202193          14   \n",
       "196               0.0     0.129    0.225  142.948       242181          14   \n",
       "197               0.0     0.153    0.578  159.966       240051          14   \n",
       "198               0.0     0.109    0.464  117.943       154767          14   \n",
       "199               0.0     0.612    0.522   73.779       181688          14   \n",
       "\n",
       "     Target  \n",
       "195       1  \n",
       "196       1  \n",
       "197       1  \n",
       "198       1  \n",
       "199       1  "
      ]
     },
     "execution_count": 14,
     "metadata": {},
     "output_type": "execute_result"
    }
   ],
   "source": [
    "df.tail()"
   ]
  },
  {
   "cell_type": "code",
   "execution_count": 15,
   "metadata": {},
   "outputs": [],
   "source": [
    "#Separando classes e features\n",
    "classes = df['Target']\n",
    "features=df.drop('Target', axis=1)"
   ]
  },
  {
   "cell_type": "markdown",
   "metadata": {},
   "source": [
    "# Algoritmos de Machine Learning "
   ]
  },
  {
   "cell_type": "code",
   "execution_count": 16,
   "metadata": {},
   "outputs": [],
   "source": [
    "from sklearn.ensemble import RandomForestClassifier\n",
    "from sklearn import svm\n",
    "from sklearn.neighbors import KNeighborsClassifier\n",
    "from sklearn import tree\n",
    "from sklearn.preprocessing import StandardScaler\n",
    "from sklearn.preprocessing import MinMaxScaler\n",
    "from sklearn.pipeline import Pipeline"
   ]
  },
  {
   "cell_type": "markdown",
   "metadata": {},
   "source": [
    "Nesta etapa é escolhido quatro algoritmos de machine Learning:\n",
    "\n",
    "- Decision Tree (TR)\n",
    "- Random Forest (RF)\n",
    "- Support Vector Machine (svm)\n",
    "- K-Nearest Neighbor(knn).\n",
    "\n",
    "No intuito de verificar qual algoritmo tem maior chance de aprender o registro do stopify e identificar se é de um cantor do gênero masculino ou feminino."
   ]
  },
  {
   "cell_type": "code",
   "execution_count": 17,
   "metadata": {},
   "outputs": [],
   "source": [
    "RF=RandomForestClassifier()\n",
    "TR=tree.DecisionTreeClassifier()\n",
    "svm=svm.SVC()\n",
    "knn=KNeighborsClassifier()"
   ]
  },
  {
   "cell_type": "markdown",
   "metadata": {},
   "source": [
    "**Etapa do algoritmo para pré-processaento**"
   ]
  },
  {
   "cell_type": "code",
   "execution_count": 18,
   "metadata": {},
   "outputs": [],
   "source": [
    "pip1_RF = Pipeline([\n",
    "        ('scl', StandardScaler()), \n",
    "        ('clf', RandomForestClassifier())\n",
    "])\n",
    "\n",
    "pip2_RF = Pipeline([\n",
    "    ('min_max_scaler', MinMaxScaler()),\n",
    "    ('clf', RandomForestClassifier())\n",
    "])\n",
    "\n",
    "pip1_TR = Pipeline([\n",
    "        ('scl', StandardScaler()), \n",
    "        ('clf', tree.DecisionTreeClassifier())\n",
    "])\n",
    "\n",
    "pip2_TR = Pipeline([\n",
    "    ('min_max_scaler', MinMaxScaler()),\n",
    "    ('clf', tree.DecisionTreeClassifier())\n",
    "])\n",
    "\n",
    "pip1_svm = Pipeline([\n",
    "        ('scl', StandardScaler()), \n",
    "        ('clf', svm.SVC())\n",
    "])\n",
    "\n",
    "pip2_svm = Pipeline([\n",
    "    ('min_max_scaler', MinMaxScaler()),\n",
    "    ('clf', svm.SVC())\n",
    "])\n",
    "\n",
    "pip1_knn = Pipeline([\n",
    "        ('scl', StandardScaler()), \n",
    "        ('clf', KNeighborsClassifier())\n",
    "])\n",
    "\n",
    "pip2_knn = Pipeline([\n",
    "    ('min_max_scaler', MinMaxScaler()),\n",
    "    ('clf', KNeighborsClassifier())\n",
    "])"
   ]
  },
  {
   "cell_type": "code",
   "execution_count": 19,
   "metadata": {},
   "outputs": [],
   "source": [
    "# Função retorna a acurácia após aplicar o cross validation\n",
    "from sklearn.model_selection import cross_val_predict\n",
    "from sklearn import metrics\n",
    "def Accuracy(clf,X,y):\n",
    "    result = cross_val_predict(clf, X, y, cv=10)\n",
    "    return metrics.accuracy_score(y,result)\n"
   ]
  },
  {
   "cell_type": "code",
   "execution_count": 84,
   "metadata": {},
   "outputs": [
    {
     "name": "stdout",
     "output_type": "stream",
     "text": [
      "RF: 0.61\n",
      "pip1_RF: 0.64\n",
      "pip2_RF: 0.575\n"
     ]
    }
   ],
   "source": [
    "print('RF:',Accuracy(RF,features,classes))\n",
    "print('pip1_RF:',Accuracy(pip1_RF,features,classes))\n",
    "print('pip2_RF:',Accuracy(pip2_RF,features,classes))"
   ]
  },
  {
   "cell_type": "code",
   "execution_count": 86,
   "metadata": {},
   "outputs": [
    {
     "name": "stdout",
     "output_type": "stream",
     "text": [
      "TR: 0.645\n",
      "pip1_TR: 0.545\n",
      "pip2_TR: 0.645\n"
     ]
    }
   ],
   "source": [
    "print('TR:',Accuracy(TR,features,classes))\n",
    "print('pip1_TR:',Accuracy(pip1_TR,features,classes))\n",
    "print('pip2_TR:',Accuracy(pip2_TR,features,classes))"
   ]
  },
  {
   "cell_type": "code",
   "execution_count": 87,
   "metadata": {},
   "outputs": [
    {
     "name": "stdout",
     "output_type": "stream",
     "text": [
      "svm: 0.495\n",
      "pip1_svm: 0.665\n",
      "pip2_svm: 0.69\n"
     ]
    }
   ],
   "source": [
    "print('svm:',Accuracy(svm,features,classes))\n",
    "print('pip1_svm:',Accuracy(pip1_svm,features,classes))\n",
    "print('pip2_svm:',Accuracy(pip2_svm,features,classes))"
   ]
  },
  {
   "cell_type": "code",
   "execution_count": 88,
   "metadata": {},
   "outputs": [
    {
     "name": "stdout",
     "output_type": "stream",
     "text": [
      "KNN: 0.45\n",
      "pip1_KNN: 0.635\n",
      "pip2_KNN: 0.645\n"
     ]
    }
   ],
   "source": [
    "print('KNN:',Accuracy(kn,features,classes))\n",
    "print('pip1_KNN:',Accuracy(pip1_knn,features,classes))\n",
    "print('pip2_KNN:',Accuracy(pip2_knn,features,classes))"
   ]
  },
  {
   "cell_type": "markdown",
   "metadata": {},
   "source": [
    "Por estes podemos verificar que para cada modelo de Machine Learning, os que obtiveram melhores resultados foram, para o Random Forest Classifier: pip1_RF, Decision Tree Classifier: TR, Support Vector Machine: pip2_svm e o\n",
    "K-Nearest Neighbor: pip2_knn.\n",
    "\n",
    "Então estes serão usadas na etapa de afinação dos parâmetros dos modelos, usando o GridSearch.\n"
   ]
  },
  {
   "cell_type": "markdown",
   "metadata": {},
   "source": [
    "**GridSearch dos melhores métodos**"
   ]
  },
  {
   "cell_type": "code",
   "execution_count": 20,
   "metadata": {},
   "outputs": [],
   "source": [
    "from sklearn.model_selection import GridSearchCV\n",
    "from sklearn.metrics import accuracy_score"
   ]
  },
  {
   "cell_type": "code",
   "execution_count": 94,
   "metadata": {},
   "outputs": [
    {
     "data": {
      "text/plain": [
       "GridSearchCV(cv=10,\n",
       "             estimator=Pipeline(steps=[('scl', StandardScaler()),\n",
       "                                       ('clf', RandomForestClassifier())]),\n",
       "             param_grid=[{'clf__criterion': ['gini', 'entropy'],\n",
       "                          'clf__max_depth': [4, 6, 8, 10],\n",
       "                          'clf__min_samples_leaf': [2, 4, 6],\n",
       "                          'clf__min_samples_split': [2, 4, 6],\n",
       "                          'clf__n_estimators': [50, 100, 200, 400]}],\n",
       "             scoring='accuracy')"
      ]
     },
     "execution_count": 94,
     "metadata": {},
     "output_type": "execute_result"
    }
   ],
   "source": [
    "grid_params_rf = [{\n",
    "    'clf__n_estimators':[50,100,200,400],\n",
    "    'clf__criterion': ['gini', 'entropy'],\n",
    "    'clf__min_samples_leaf': [2,4,6],\n",
    "    'clf__max_depth': [4, 6, 8, 10],\n",
    "    'clf__min_samples_split': [2,4,6],\n",
    "}]\n",
    "gs_rf = GridSearchCV(\n",
    "    estimator=pip1_RF,\n",
    "    param_grid=grid_params_rf,\n",
    "    scoring='accuracy',\n",
    "    cv=10 \n",
    ")\n",
    "gs_rf.fit(features,classes)"
   ]
  },
  {
   "cell_type": "code",
   "execution_count": 95,
   "metadata": {},
   "outputs": [
    {
     "name": "stdout",
     "output_type": "stream",
     "text": [
      "Melhores parâmetros: {'clf__criterion': 'entropy', 'clf__max_depth': 4, 'clf__min_samples_leaf': 2, 'clf__min_samples_split': 2, 'clf__n_estimators': 400}\n",
      "Melhores Acurácia: 0.735\n"
     ]
    }
   ],
   "source": [
    "print('Melhores parâmetros: %s' % gs_rf.best_params_)\n",
    "print('Melhores Acurácia: %.3f' % gs_rf.best_score_)"
   ]
  },
  {
   "cell_type": "code",
   "execution_count": 99,
   "metadata": {},
   "outputs": [
    {
     "data": {
      "text/plain": [
       "GridSearchCV(cv=10, estimator=DecisionTreeClassifier(),\n",
       "             param_grid=[{'criterion': ['gini', 'entropy'],\n",
       "                          'max_depth': [4, 6, 8, 10],\n",
       "                          'min_samples_leaf': [2, 4, 6, 8],\n",
       "                          'min_samples_split': [2, 4, 6, 8],\n",
       "                          'splitter': ['best', 'random']}],\n",
       "             scoring='accuracy')"
      ]
     },
     "execution_count": 99,
     "metadata": {},
     "output_type": "execute_result"
    }
   ],
   "source": [
    "grid_params_tr = [{\n",
    "    'criterion': ['gini', 'entropy'],\n",
    "    'splitter': ['best', 'random'],\n",
    "    'max_depth': [4, 6, 8, 10],\n",
    "    'min_samples_split': [2,4,6,8],\n",
    "    'min_samples_leaf': [2,4,6,8]\n",
    "}]\n",
    "gs_tr = GridSearchCV(\n",
    "    estimator=TR,\n",
    "    param_grid=grid_params_tr,\n",
    "    scoring='accuracy',\n",
    "    cv=10 \n",
    ")\n",
    "gs_tr.fit(features,classes)"
   ]
  },
  {
   "cell_type": "code",
   "execution_count": 100,
   "metadata": {},
   "outputs": [
    {
     "name": "stdout",
     "output_type": "stream",
     "text": [
      "Melhores parâmetros: {'criterion': 'entropy', 'max_depth': 8, 'min_samples_leaf': 6, 'min_samples_split': 6, 'splitter': 'random'}\n",
      "Melhores Acurácia: 0.785\n"
     ]
    }
   ],
   "source": [
    "print('Melhores parâmetros: %s' % gs_tr.best_params_)\n",
    "print('Melhores Acurácia: %.3f' % gs_tr.best_score_)"
   ]
  },
  {
   "cell_type": "code",
   "execution_count": 110,
   "metadata": {},
   "outputs": [
    {
     "data": {
      "text/plain": [
       "GridSearchCV(cv=10,\n",
       "             estimator=Pipeline(steps=[('min_max_scaler', MinMaxScaler()),\n",
       "                                       ('clf', SVC())]),\n",
       "             param_grid=[{'clf__C': [0.01, 0.1, 1],\n",
       "                          'clf__kernel': ['linear', 'rbf', 'poly']}],\n",
       "             scoring='accuracy')"
      ]
     },
     "execution_count": 110,
     "metadata": {},
     "output_type": "execute_result"
    }
   ],
   "source": [
    "grid_params_svm = [{\n",
    "    'clf__kernel': ['linear', 'rbf', 'poly'], \n",
    "    'clf__C': [0.01,0.1,1]\n",
    "}]\n",
    "gs_svm = GridSearchCV(\n",
    "    estimator=pip2_sv,\n",
    "    param_grid=grid_params_svm,\n",
    "    scoring='accuracy',\n",
    "    cv=10,\n",
    ")\n",
    "gs_svm.fit(features,classes)"
   ]
  },
  {
   "cell_type": "code",
   "execution_count": 111,
   "metadata": {},
   "outputs": [
    {
     "name": "stdout",
     "output_type": "stream",
     "text": [
      "Melhores parâmetros: {'clf__C': 0.01, 'clf__kernel': 'linear'}\n",
      "Melhores Acurácia: 0.740\n"
     ]
    }
   ],
   "source": [
    "print('Melhores parâmetros: %s' % gs_svm.best_params_)\n",
    "print('Melhores Acurácia: %.3f' % gs_svm.best_score_)"
   ]
  },
  {
   "cell_type": "code",
   "execution_count": 113,
   "metadata": {},
   "outputs": [
    {
     "data": {
      "text/plain": [
       "GridSearchCV(cv=10,\n",
       "             estimator=Pipeline(steps=[('min_max_scaler', MinMaxScaler()),\n",
       "                                       ('clf', KNeighborsClassifier())]),\n",
       "             param_grid=[{'clf__n_neighbors': [1, 2, 3, 4, 5, 6, 7, 8, 9, 10]}],\n",
       "             scoring='accuracy')"
      ]
     },
     "execution_count": 113,
     "metadata": {},
     "output_type": "execute_result"
    }
   ],
   "source": [
    "grid_params_knn = [{\n",
    "    'clf__n_neighbors': [1,2,3,4,5,6,7,8,9,10],\n",
    "}]\n",
    "gs_knn = GridSearchCV(\n",
    "    estimator=pip2_kn,\n",
    "    param_grid=grid_params_knn,\n",
    "    scoring='accuracy',\n",
    "    cv=10,\n",
    ")\n",
    "gs_knn.fit(features,classes)"
   ]
  },
  {
   "cell_type": "code",
   "execution_count": 114,
   "metadata": {},
   "outputs": [
    {
     "name": "stdout",
     "output_type": "stream",
     "text": [
      "Melhores parâmetros: {'clf__n_neighbors': 9}\n",
      "Melhores Acurácia: 0.665\n"
     ]
    }
   ],
   "source": [
    "print('Melhores parâmetros: %s' % gs_knn.best_params_)\n",
    "print('Melhores Acurácia: %.3f' % gs_knn.best_score_)"
   ]
  },
  {
   "cell_type": "markdown",
   "metadata": {},
   "source": [
    "Obtemos então como o melhor algoritmo para aprendizado dos dados, o Support Vector Machine (SVM) que consegue \n",
    "acertar 74 % dos cantores classificados pelo gênero feminino ou masculino."
   ]
  },
  {
   "cell_type": "markdown",
   "metadata": {},
   "source": [
    "# Conclusões"
   ]
  },
  {
   "cell_type": "markdown",
   "metadata": {},
   "source": [
    "O intuito deste projeto foi identificar características de cantores do sexo feminino ou masculino, a partir de audio features fornecidos pelo Spotify dos cantores mais ouvidos. No Passo_1 Spotify, demonstra como é possível obter estes dados a partir de um algoritmo construído para obter as audio features de cada registro de música. Com os dados obtidos, o Passo2_Spotify faz uma analise exploratória de duas maneiras uma delas é de forma categórica onde um algoritmo construído classifica os dados em medidas baixas, intermediárias e altas  e a outra é uma analise dos valores de forma contínua. \n",
    "\n",
    "Na forma categórica observa-se que as features, instrumentalness, speechiness e liveness não tem relevância no Top 10 das músicas, atestando o fato de que os usuários não procuram este tipo de música entre os 20 cantores mais ouvidos. Além disso, os usuários procuram músicas com baixo acousticness e alta energy e danceability, e também na faixa loudness de -10 a -5 decibéis. Enquanto pela forma contínua, observa-se uma correlação entre as features energy e danceability, em que os usuários tem a maior tendência em ouvir muicas mais alegres, barulhentas e mais dançantes.\n",
    "\n",
    "Os cantores de gênero feminino tem mais músicas de alto acousticness enquanto os cantores de gêneros masculinos tem mais músicas de alta danceability e energy nas faixas de Top 10. As músicas de mais baixa danceability que tender a ter baixa energy são do do gênero feminino, assim como as músicas de alta acousticness que tendem a ter baixa valence.\n",
    "\n",
    "Com estas analises, o Passo3_Spotify demonstra a partir do algoritmo de Machine Learning como identificar se uma faixa de música é de um cantor do gênero feminino ou masculino, com isso obtemos resultados satisfatório de um acerto do gênero de cantores de 74%, esses dados de aprendizado podem ser melhorados, mas até então já demonstra que é possível identificar as características de um cantor ou cantora dentre os mais ouvidos por um usuário do Spotify."
   ]
  },
  {
   "cell_type": "code",
   "execution_count": null,
   "metadata": {},
   "outputs": [],
   "source": []
  },
  {
   "cell_type": "code",
   "execution_count": null,
   "metadata": {},
   "outputs": [],
   "source": []
  },
  {
   "cell_type": "code",
   "execution_count": 125,
   "metadata": {},
   "outputs": [
    {
     "name": "stdout",
     "output_type": "stream",
     "text": [
      "              precision    recall  f1-score   support\n",
      "\n",
      "           0       0.94      0.51      0.66       100\n",
      "           1       0.66      0.97      0.79       100\n",
      "\n",
      "    accuracy                           0.74       200\n",
      "   macro avg       0.80      0.74      0.73       200\n",
      "weighted avg       0.80      0.74      0.73       200\n",
      "\n"
     ]
    }
   ],
   "source": []
  },
  {
   "cell_type": "code",
   "execution_count": 127,
   "metadata": {},
   "outputs": [
    {
     "name": "stdout",
     "output_type": "stream",
     "text": [
      "              precision    recall  f1-score   support\n",
      "\n",
      "           0       0.88      0.52      0.65       100\n",
      "           1       0.66      0.93      0.77       100\n",
      "\n",
      "    accuracy                           0.73       200\n",
      "   macro avg       0.77      0.73      0.71       200\n",
      "weighted avg       0.77      0.72      0.71       200\n",
      "\n"
     ]
    }
   ],
   "source": []
  },
  {
   "cell_type": "code",
   "execution_count": null,
   "metadata": {},
   "outputs": [],
   "source": []
  }
 ],
 "metadata": {
  "kernelspec": {
   "display_name": "Python 3",
   "language": "python",
   "name": "python3"
  },
  "language_info": {
   "codemirror_mode": {
    "name": "ipython",
    "version": 3
   },
   "file_extension": ".py",
   "mimetype": "text/x-python",
   "name": "python",
   "nbconvert_exporter": "python",
   "pygments_lexer": "ipython3",
   "version": "3.7.1"
  }
 },
 "nbformat": 4,
 "nbformat_minor": 2
}
